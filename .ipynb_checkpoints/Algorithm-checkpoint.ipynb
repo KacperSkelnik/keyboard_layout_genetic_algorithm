{
 "cells": [
  {
   "cell_type": "code",
   "execution_count": 158,
   "metadata": {},
   "outputs": [],
   "source": [
    "import networkx as nx\n",
    "import numpy as np\n",
    "import random"
   ]
  },
  {
   "cell_type": "code",
   "execution_count": 159,
   "metadata": {},
   "outputs": [],
   "source": [
    "letters = ['q', 'w', 'e', 'r', 't', 'y', 'u', 'i', 'o', 'p',\n",
    "           'a', 's', 'd', 'f', 'g', 'h', 'j', 'k', 'l',\n",
    "           'z', 'x', 'c', 'v', 'b', 'n', 'm']"
   ]
  },
  {
   "cell_type": "code",
   "execution_count": 160,
   "metadata": {},
   "outputs": [],
   "source": [
    "def define_graph(G_left, G_right):\n",
    "    G_left.add_nodes_from(range(0,15))\n",
    "    G_right.add_nodes_from(range(0,11))\n",
    "\n",
    "    G_left.add_edge(0, 1)\n",
    "    G_left.add_edge(0, 5)\n",
    "    G_left.add_edge(0, 6)\n",
    "\n",
    "    G_left.add_edge(1, 2)\n",
    "    G_left.add_edge(1, 5)\n",
    "    G_left.add_edge(1, 6)\n",
    "    G_left.add_edge(1, 7)\n",
    "\n",
    "    G_left.add_edge(2, 3)\n",
    "    G_left.add_edge(2, 6)\n",
    "    G_left.add_edge(2, 7)\n",
    "    G_left.add_edge(2, 8)\n",
    "\n",
    "    G_left.add_edge(3, 4)\n",
    "    G_left.add_edge(3, 7)\n",
    "    G_left.add_edge(3, 8)\n",
    "    G_left.add_edge(3, 9)\n",
    "\n",
    "    G_left.add_edge(4, 8)\n",
    "    G_left.add_edge(4, 9)\n",
    "\n",
    "    G_left.add_edge(5, 6)\n",
    "    G_left.add_edge(5, 10)\n",
    "    G_left.add_edge(5, 11)\n",
    "\n",
    "    G_left.add_edge(6, 7)\n",
    "    G_left.add_edge(6, 10)\n",
    "    G_left.add_edge(6, 11)\n",
    "    G_left.add_edge(6, 12)\n",
    "\n",
    "    G_left.add_edge(7, 8)\n",
    "    G_left.add_edge(7, 11)\n",
    "    G_left.add_edge(7, 12)\n",
    "    G_left.add_edge(7, 13)\n",
    "\n",
    "    G_left.add_edge(8, 9)\n",
    "    G_left.add_edge(8, 12)\n",
    "    G_left.add_edge(8, 13)\n",
    "    G_left.add_edge(8, 14)\n",
    "\n",
    "    G_left.add_edge(9, 13)\n",
    "    G_left.add_edge(9, 14)\n",
    "\n",
    "    G_left.add_edge(10, 11)\n",
    "    G_left.add_edge(11, 12)\n",
    "    G_left.add_edge(12, 13)\n",
    "    G_left.add_edge(13, 14)\n",
    "\n",
    "\n",
    "    G_right.add_edge(0, 1)\n",
    "    G_right.add_edge(0, 5)\n",
    "    G_right.add_edge(0, 6)\n",
    "\n",
    "    G_right.add_edge(1, 2)\n",
    "    G_right.add_edge(1, 5)\n",
    "    G_right.add_edge(1, 6)\n",
    "    G_right.add_edge(1, 7)\n",
    "\n",
    "    G_right.add_edge(2, 3)\n",
    "    G_right.add_edge(2, 6)\n",
    "    G_right.add_edge(2, 7)\n",
    "    G_right.add_edge(2, 8)\n",
    "\n",
    "    G_right.add_edge(3, 4)\n",
    "    G_right.add_edge(3, 7)\n",
    "    G_right.add_edge(3, 8)\n",
    "\n",
    "    G_right.add_edge(4, 8)\n",
    "\n",
    "    G_right.add_edge(5, 6)\n",
    "    G_right.add_edge(5, 9)\n",
    "    G_right.add_edge(5, 10)\n",
    "\n",
    "    G_right.add_edge(6, 7)\n",
    "    G_right.add_edge(6, 9)\n",
    "    G_right.add_edge(6, 10)\n",
    "\n",
    "    G_right.add_edge(7, 8)\n",
    "    G_right.add_edge(9, 10)"
   ]
  },
  {
   "cell_type": "code",
   "execution_count": 161,
   "metadata": {},
   "outputs": [],
   "source": [
    "def make_rnd_keyboard_layout(G_left, G_right):\n",
    "    left_attrs = {}\n",
    "    right_attrs = {}\n",
    "    \n",
    "    tmp = letters.copy()\n",
    "    for i in range(15):\n",
    "        left_letter = random.choice(tmp)\n",
    "        left_attrs[i] = {\"val\": left_letter}\n",
    "        tmp.remove(left_letter)\n",
    "        \n",
    "        if i <= 10:\n",
    "            right_letter = random.choice(tmp)\n",
    "            right_attrs[i] = {\"val\": right_letter}\n",
    "            tmp.remove(right_letter)\n",
    "\n",
    "    nx.set_node_attributes(G_left, left_attrs)\n",
    "    nx.set_node_attributes(G_right, right_attrs)"
   ]
  },
  {
   "cell_type": "code",
   "execution_count": 162,
   "metadata": {},
   "outputs": [],
   "source": [
    "def create_graphs_dict(num:int):\n",
    "    d_left = {}\n",
    "    d_right = {}\n",
    "    for i in range(num):\n",
    "        d_left[\"{0}\".format(i)] = nx.Graph()\n",
    "        d_right[\"{0}\".format(i)] = nx.Graph()\n",
    "        define_graph(d_left[\"{0}\".format(i)], d_right[\"{0}\".format(i)])\n",
    "        make_rnd_keyboard_layout(d_left[\"{0}\".format(i)], d_right[\"{0}\".format(i)])\n",
    "        \n",
    "    return d_left, d_right"
   ]
  },
  {
   "cell_type": "code",
   "execution_count": 163,
   "metadata": {},
   "outputs": [],
   "source": [
    "d_left, d_right = create_graphs_dict(2)"
   ]
  },
  {
   "cell_type": "code",
   "execution_count": 166,
   "metadata": {},
   "outputs": [],
   "source": [
    "def mutation(G_left, G_right):\n",
    "    indexes = random.sample(range(26), 2)\n",
    "    \n",
    "    if indexes[0] <= 14 and indexes[1] <= 14:\n",
    "        l = G_left.nodes[indexes[0]]['val']\n",
    "        r = G_left.nodes[indexes[1]]['val']\n",
    "        \n",
    "        G_left.nodes[indexes[0]]['val'] = r\n",
    "        G_left.nodes[indexes[1]]['val'] = l\n",
    "    elif indexes[0] <= 14 and indexes[1] > 14:\n",
    "        l = G_left.nodes[indexes[0]]['val']\n",
    "        r = G_right.nodes[indexes[1]-15]['val']\n",
    "        \n",
    "        G_left.nodes[indexes[0]]['val'] = r\n",
    "        G_right.nodes[indexes[1]-15]['val'] = l\n",
    "    elif indexes[0] > 14 and indexes[1] <= 14:\n",
    "        l = G_left.nodes[indexes[1]]['val']\n",
    "        r = G_right.nodes[indexes[0]-15]['val']\n",
    "        \n",
    "        G_left.nodes[indexes[1]]['val'] = r\n",
    "        G_right.nodes[indexes[0]-15]['val'] = l \n",
    "    elif indexes[0] > 14 and indexes[1] > 14:\n",
    "        l = G_right.nodes[indexes[0]-15]['val']\n",
    "        r = G_right.nodes[indexes[1]-15]['val']\n",
    "        \n",
    "        G_right.nodes[indexes[0]-15]['val'] = r\n",
    "        G_right.nodes[indexes[1]-15]['val'] = l\n",
    "    \n",
    "mutation(d_left['0'], d_right['0'])"
   ]
  },
  {
   "cell_type": "code",
   "execution_count": 167,
   "metadata": {},
   "outputs": [],
   "source": [
    "def set_keyboard_layout(G_left, G_right, tab):\n",
    "    left_attrs = {}\n",
    "    right_attrs = {}\n",
    "\n",
    "    for i in range(15):\n",
    "        left_attrs[i] = {\"val\": tab[i]}\n",
    "    for i in range(11):\n",
    "        right_attrs[i] = {\"val\": tab[15+i]}\n",
    "\n",
    "    nx.set_node_attributes(G_left, left_attrs)\n",
    "    nx.set_node_attributes(G_right, right_attrs)"
   ]
  },
  {
   "cell_type": "code",
   "execution_count": 168,
   "metadata": {},
   "outputs": [],
   "source": [
    "def crossover(G_left1, G_right1, G_left2, G_right2):\n",
    "    \"\"\"Executes a partially matched crossover (PMX) on the input individuals\"\"\"\n",
    "    ind1, ind2 = [], []  \n",
    "    for i in range(15):\n",
    "        ind1.append(G_left1.nodes[i]['val'])\n",
    "        ind2.append(G_left2.nodes[i]['val'])\n",
    "    for i in range(11):\n",
    "        ind1.append(G_right1.nodes[i]['val'])\n",
    "        ind2.append(G_right2.nodes[i]['val'])\n",
    "    \n",
    "    size = min(len(ind1), len(ind2))\n",
    "    p1, p2 = [0] * size, [0] * size\n",
    "    \n",
    "    cxpoint1 = random.randint(0, size)\n",
    "    cxpoint2 = random.randint(0, size - 1)\n",
    "    \n",
    "    if cxpoint2 >= cxpoint1:\n",
    "        pass\n",
    "    else:  # Swap the two cx points\n",
    "        cxpoint1, cxpoint2 = cxpoint2, cxpoint1\n",
    "        \n",
    "    for i in range(cxpoint1, cxpoint2+1):\n",
    "        temp1 = ind1.index(ind1[i])\n",
    "        temp2 = ind2.index(ind2[i])\n",
    "        # Swap the matched value\n",
    "        ind1[i], ind1[p1[temp2]] = ind2[i], ind1[i]\n",
    "        ind2[i], ind2[p2[temp1]] = ind1[i], ind2[i]\n",
    "        # Position bookkeeping\n",
    "        p1[temp1], p1[temp2] = p1[temp2], p1[temp1]\n",
    "        p2[temp1], p2[temp2] = p2[temp2], p2[temp1]\n",
    "        \n",
    "    set_keyboard_layout(G_left1, G_right1, ind1)\n",
    "    set_keyboard_layout(G_left2, G_right2, ind2)"
   ]
  },
  {
   "cell_type": "code",
   "execution_count": 169,
   "metadata": {},
   "outputs": [],
   "source": [
    "def score():\n",
    "    print('TODO')"
   ]
  },
  {
   "cell_type": "code",
   "execution_count": 170,
   "metadata": {},
   "outputs": [],
   "source": [
    "import numpy.random as npr\n",
    "\n",
    "def selectOne(population):\n",
    "    max = sum([c['score'] for c in population])\n",
    "    selection_probs = [c['score']/max for c in population]\n",
    "    return npr.choice(len(population), p=selection_probs)"
   ]
  },
  {
   "cell_type": "code",
   "execution_count": 171,
   "metadata": {},
   "outputs": [],
   "source": [
    "def selection(population):\n",
    "    length = min(len(d_left), len(d_right))\n",
    "    for i in range(length):\n",
    "        chosen = selectOne(population)\n",
    "        d_left[i] = d_left[chosen]\n",
    "        d_right[i] = d_right[chosen]"
   ]
  },
  {
   "cell_type": "code",
   "execution_count": 172,
   "metadata": {},
   "outputs": [],
   "source": [
    "def algorithm():\n",
    "    print('TODO')"
   ]
  },
  {
   "cell_type": "code",
   "execution_count": 173,
   "metadata": {},
   "outputs": [
    {
     "name": "stdout",
     "output_type": "stream",
     "text": [
      "0 {'val': 's'}\n",
      "1 {'val': 'e'}\n",
      "2 {'val': 'o'}\n",
      "3 {'val': 'x'}\n",
      "4 {'val': 'n'}\n",
      "5 {'val': 'k'}\n",
      "6 {'val': 'a'}\n",
      "7 {'val': 'f'}\n",
      "8 {'val': 'd'}\n",
      "9 {'val': 'i'}\n",
      "10 {'val': 'g'}\n",
      "11 {'val': 'v'}\n",
      "12 {'val': 'l'}\n",
      "13 {'val': 'z'}\n",
      "14 {'val': 'h'}\n",
      "\n",
      "\n",
      "15 {'val': 'w'}\n",
      "16 {'val': 't'}\n",
      "17 {'val': 'y'}\n",
      "18 {'val': 'z'}\n",
      "19 {'val': 't'}\n",
      "20 {'val': 'r'}\n",
      "21 {'val': 'j'}\n",
      "22 {'val': 'u'}\n",
      "23 {'val': 'w'}\n",
      "24 {'val': 'q'}\n",
      "25 {'val': 'm'}\n"
     ]
    }
   ],
   "source": [
    "for i in d_left['0'].nodes:\n",
    "    print(i, d_left['0'].nodes[i])\n",
    "    \n",
    "print('\\n')\n",
    "\n",
    "for i in d_right['0'].nodes:\n",
    "    print(i+15, d_right['0'].nodes[i])"
   ]
  },
  {
   "cell_type": "code",
   "execution_count": 164,
   "metadata": {},
   "outputs": [],
   "source": [
    "#nx.draw(d_left['0'], labels=d_left['0'].nodes)"
   ]
  },
  {
   "cell_type": "code",
   "execution_count": 165,
   "metadata": {},
   "outputs": [],
   "source": [
    "#nx.draw(d_right['0'], labels=d_right['0'].nodes)"
   ]
  },
  {
   "cell_type": "code",
   "execution_count": null,
   "metadata": {},
   "outputs": [],
   "source": []
  }
 ],
 "metadata": {
  "kernelspec": {
   "display_name": "Python 3",
   "language": "python",
   "name": "python3"
  },
  "language_info": {
   "codemirror_mode": {
    "name": "ipython",
    "version": 3
   },
   "file_extension": ".py",
   "mimetype": "text/x-python",
   "name": "python",
   "nbconvert_exporter": "python",
   "pygments_lexer": "ipython3",
   "version": "3.8.3"
  }
 },
 "nbformat": 4,
 "nbformat_minor": 4
}
