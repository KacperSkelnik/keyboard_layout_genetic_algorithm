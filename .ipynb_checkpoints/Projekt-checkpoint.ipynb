{
 "cells": [
  {
   "cell_type": "code",
   "execution_count": 265,
   "metadata": {},
   "outputs": [],
   "source": [
    "import networkx as nx\n",
    "import numpy as np\n",
    "import random"
   ]
  },
  {
   "cell_type": "code",
   "execution_count": 266,
   "metadata": {},
   "outputs": [],
   "source": [
    "letters = ['q', 'w', 'e', 'r', 't', 'y', 'u', 'i', 'o', 'p',\n",
    "           'a', 's', 'd', 'f', 'g', 'h', 'j', 'k', 'l',\n",
    "           'z', 'x', 'c', 'v', 'b', 'n', 'm']"
   ]
  },
  {
   "cell_type": "code",
   "execution_count": 267,
   "metadata": {},
   "outputs": [],
   "source": [
    "G_left = nx.Graph()\n",
    "G_left.add_nodes_from(range(0,15))\n",
    "\n",
    "G_right = nx.Graph()\n",
    "G_right.add_nodes_from(range(0,11))\n",
    "    \n",
    "G_left.add_edge(0, 1)\n",
    "G_left.add_edge(0, 5)\n",
    "G_left.add_edge(0, 6)\n",
    "\n",
    "G_left.add_edge(1, 2)\n",
    "G_left.add_edge(1, 5)\n",
    "G_left.add_edge(1, 6)\n",
    "G_left.add_edge(1, 7)\n",
    "\n",
    "G_left.add_edge(2, 3)\n",
    "G_left.add_edge(2, 6)\n",
    "G_left.add_edge(2, 7)\n",
    "G_left.add_edge(2, 8)\n",
    "\n",
    "G_left.add_edge(3, 4)\n",
    "G_left.add_edge(3, 7)\n",
    "G_left.add_edge(3, 8)\n",
    "G_left.add_edge(3, 9)\n",
    "\n",
    "G_left.add_edge(4, 8)\n",
    "G_left.add_edge(4, 9)\n",
    "\n",
    "G_left.add_edge(5, 6)\n",
    "G_left.add_edge(5, 10)\n",
    "G_left.add_edge(5, 11)\n",
    "\n",
    "G_left.add_edge(6, 7)\n",
    "G_left.add_edge(6, 10)\n",
    "G_left.add_edge(6, 11)\n",
    "G_left.add_edge(6, 12)\n",
    "\n",
    "G_left.add_edge(7, 8)\n",
    "G_left.add_edge(7, 11)\n",
    "G_left.add_edge(7, 12)\n",
    "G_left.add_edge(7, 13)\n",
    "\n",
    "G_left.add_edge(8, 9)\n",
    "G_left.add_edge(8, 12)\n",
    "G_left.add_edge(8, 13)\n",
    "G_left.add_edge(8, 14)\n",
    "\n",
    "G_left.add_edge(9, 13)\n",
    "G_left.add_edge(9, 14)\n",
    "\n",
    "G_left.add_edge(10, 11)\n",
    "G_left.add_edge(11, 12)\n",
    "G_left.add_edge(12, 13)\n",
    "G_left.add_edge(13, 14)\n",
    "\n",
    "\n",
    "G_right.add_edge(0, 1)\n",
    "G_right.add_edge(0, 5)\n",
    "G_right.add_edge(0, 6)\n",
    "\n",
    "G_right.add_edge(1, 2)\n",
    "G_right.add_edge(1, 5)\n",
    "G_right.add_edge(1, 6)\n",
    "G_right.add_edge(1, 7)\n",
    "\n",
    "G_right.add_edge(2, 3)\n",
    "G_right.add_edge(2, 6)\n",
    "G_right.add_edge(2, 7)\n",
    "G_right.add_edge(2, 8)\n",
    "\n",
    "G_right.add_edge(3, 4)\n",
    "G_right.add_edge(3, 7)\n",
    "G_right.add_edge(3, 8)\n",
    "\n",
    "G_right.add_edge(4, 8)\n",
    "\n",
    "G_right.add_edge(5, 6)\n",
    "G_right.add_edge(5, 9)\n",
    "G_right.add_edge(5, 10)\n",
    "\n",
    "G_right.add_edge(6, 7)\n",
    "G_right.add_edge(6, 9)\n",
    "G_right.add_edge(6, 10)\n",
    "\n",
    "G_right.add_edge(7, 8)\n",
    "G_right.add_edge(9, 10)"
   ]
  },
  {
   "cell_type": "code",
   "execution_count": 268,
   "metadata": {},
   "outputs": [],
   "source": [
    "def make_rnd_keyboard_layout(G_left, G_right):\n",
    "    left_attrs = {}\n",
    "    right_attrs = {}\n",
    "    \n",
    "    tmp = letters.copy()\n",
    "    for i in range(15):\n",
    "        left_letter = random.choice(tmp)\n",
    "        left_attrs[i] = {\"val\": left_letter}\n",
    "        tmp.remove(left_letter)\n",
    "        \n",
    "        if i <= 10:\n",
    "            right_letter = random.choice(tmp)\n",
    "            right_attrs[i] = {\"val\": right_letter}\n",
    "            tmp.remove(right_letter)\n",
    "\n",
    "    nx.set_node_attributes(G_left, left_attrs)\n",
    "    nx.set_node_attributes(G_right, right_attrs)"
   ]
  },
  {
   "cell_type": "code",
   "execution_count": 269,
   "metadata": {},
   "outputs": [],
   "source": [
    "make_rnd_keyboard_layout(G_left, G_right)"
   ]
  },
  {
   "cell_type": "code",
   "execution_count": 270,
   "metadata": {},
   "outputs": [],
   "source": [
    "#nx.draw(G_left, with_labels = True)"
   ]
  },
  {
   "cell_type": "code",
   "execution_count": 271,
   "metadata": {},
   "outputs": [],
   "source": [
    "#nx.draw(G_right, with_labels = True)"
   ]
  },
  {
   "cell_type": "code",
   "execution_count": 272,
   "metadata": {},
   "outputs": [],
   "source": [
    "def mutation(G_left, G_right):\n",
    "    indexes = random.sample(range(26), 2)\n",
    "    \n",
    "    if indexes[0] <= 14 and indexes[1] <= 14:\n",
    "        l = G_left.nodes[indexes[0]]['val']\n",
    "        r = G_left.nodes[indexes[1]]['val']\n",
    "        \n",
    "        G_left.nodes[indexes[0]]['val'] = r\n",
    "        G_left.nodes[indexes[1]]['val'] = l\n",
    "    elif indexes[0] <= 14 and indexes[1] > 14:\n",
    "        l = G_left.nodes[indexes[0]]['val']\n",
    "        r = G_right.nodes[indexes[1]-15]['val']\n",
    "        \n",
    "        G_left.nodes[indexes[0]]['val'] = r\n",
    "        G_right.nodes[indexes[1]-15]['val'] = l\n",
    "    elif indexes[0] > 14 and indexes[1] <= 14:\n",
    "        l = G_left.nodes[indexes[1]]['val']\n",
    "        r = G_right.nodes[indexes[0]-15]['val']\n",
    "        \n",
    "        G_left.nodes[indexes[1]]['val'] = r\n",
    "        G_right.nodes[indexes[0]-15]['val'] = l \n",
    "    elif indexes[0] > 14 and indexes[1] > 14:\n",
    "        l = G_right.nodes[indexes[0]-15]['val']\n",
    "        r = G_right.nodes[indexes[1]-15]['val']\n",
    "        \n",
    "        G_right.nodes[indexes[0]-15]['val'] = r\n",
    "        G_right.nodes[indexes[1]-15]['val'] = l\n",
    "    \n",
    "mutacja(G_left, G_right)"
   ]
  },
  {
   "cell_type": "code",
   "execution_count": 273,
   "metadata": {},
   "outputs": [],
   "source": [
    "def hybridization(G_left, G_right):\n",
    "    print('TODO')"
   ]
  },
  {
   "cell_type": "code",
   "execution_count": 275,
   "metadata": {},
   "outputs": [],
   "source": [
    "def selection():\n",
    "    print('TODO')"
   ]
  },
  {
   "cell_type": "code",
   "execution_count": 277,
   "metadata": {},
   "outputs": [],
   "source": [
    "def score():\n",
    "    print('TODO')"
   ]
  },
  {
   "cell_type": "code",
   "execution_count": 278,
   "metadata": {},
   "outputs": [],
   "source": [
    "def algorithm():\n",
    "    print('TODO')"
   ]
  },
  {
   "cell_type": "code",
   "execution_count": 274,
   "metadata": {},
   "outputs": [
    {
     "data": {
      "text/plain": [
       "\"\\nfor i in G_left.nodes:\\n    print(i, G_left.nodes[i])\\n    \\nprint('\\n')\\n\\nfor i in G_right.nodes:\\n    print(i+15, G_right.nodes[i])\\n\""
      ]
     },
     "execution_count": 274,
     "metadata": {},
     "output_type": "execute_result"
    }
   ],
   "source": [
    "\"\"\"\n",
    "for i in G_left.nodes:\n",
    "    print(i, G_left.nodes[i])\n",
    "    \n",
    "print('\\n')\n",
    "\n",
    "for i in G_right.nodes:\n",
    "    print(i+15, G_right.nodes[i])\n",
    "\"\"\""
   ]
  }
 ],
 "metadata": {
  "kernelspec": {
   "display_name": "Python 3",
   "language": "python",
   "name": "python3"
  },
  "language_info": {
   "codemirror_mode": {
    "name": "ipython",
    "version": 3
   },
   "file_extension": ".py",
   "mimetype": "text/x-python",
   "name": "python",
   "nbconvert_exporter": "python",
   "pygments_lexer": "ipython3",
   "version": "3.7.4"
  }
 },
 "nbformat": 4,
 "nbformat_minor": 4
}
