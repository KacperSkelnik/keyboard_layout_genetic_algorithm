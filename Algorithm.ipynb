{
 "cells": [
  {
   "cell_type": "code",
   "execution_count": 1,
   "metadata": {},
   "outputs": [],
   "source": [
    "import networkx as nx\n",
    "import numpy as np\n",
    "import random\n",
    "import nltk"
   ]
  },
  {
   "cell_type": "code",
   "execution_count": 2,
   "metadata": {},
   "outputs": [],
   "source": [
    "letters = ['q', 'w', 'e', 'r', 't', 'y', 'u', 'i', 'o', 'p',\n",
    "           'a', 's', 'd', 'f', 'g', 'h', 'j', 'k', 'l',\n",
    "           'z', 'x', 'c', 'v', 'b', 'n', 'm']"
   ]
  },
  {
   "cell_type": "code",
   "execution_count": 3,
   "metadata": {},
   "outputs": [],
   "source": [
    "f = open('words/google-10000-english.txt', 'r')\n",
    "words = f.readlines()\n",
    "words = [word.rstrip() for word in words if len(word.rstrip()) > 1]"
   ]
  },
  {
   "cell_type": "code",
   "execution_count": 4,
   "metadata": {},
   "outputs": [],
   "source": [
    "def define_graph(G_left, G_right):\n",
    "    G_left.add_nodes_from(range(0,15))\n",
    "    G_right.add_nodes_from(range(0,11))\n",
    "\n",
    "    G_left.add_edge(0, 1)\n",
    "    G_left.add_edge(0, 5)\n",
    "    G_left.add_edge(0, 6)\n",
    "\n",
    "    G_left.add_edge(1, 2)\n",
    "    G_left.add_edge(1, 5)\n",
    "    G_left.add_edge(1, 6)\n",
    "    G_left.add_edge(1, 7)\n",
    "\n",
    "    G_left.add_edge(2, 3)\n",
    "    G_left.add_edge(2, 6)\n",
    "    G_left.add_edge(2, 7)\n",
    "    G_left.add_edge(2, 8)\n",
    "\n",
    "    G_left.add_edge(3, 4)\n",
    "    G_left.add_edge(3, 7)\n",
    "    G_left.add_edge(3, 8)\n",
    "    G_left.add_edge(3, 9)\n",
    "\n",
    "    G_left.add_edge(4, 8)\n",
    "    G_left.add_edge(4, 9)\n",
    "\n",
    "    G_left.add_edge(5, 6)\n",
    "    G_left.add_edge(5, 10)\n",
    "    G_left.add_edge(5, 11)\n",
    "\n",
    "    G_left.add_edge(6, 7)\n",
    "    G_left.add_edge(6, 10)\n",
    "    G_left.add_edge(6, 11)\n",
    "    G_left.add_edge(6, 12)\n",
    "\n",
    "    G_left.add_edge(7, 8)\n",
    "    G_left.add_edge(7, 11)\n",
    "    G_left.add_edge(7, 12)\n",
    "    G_left.add_edge(7, 13)\n",
    "\n",
    "    G_left.add_edge(8, 9)\n",
    "    G_left.add_edge(8, 12)\n",
    "    G_left.add_edge(8, 13)\n",
    "    G_left.add_edge(8, 14)\n",
    "\n",
    "    G_left.add_edge(9, 13)\n",
    "    G_left.add_edge(9, 14)\n",
    "\n",
    "    G_left.add_edge(10, 11)\n",
    "    G_left.add_edge(11, 12)\n",
    "    G_left.add_edge(12, 13)\n",
    "    G_left.add_edge(13, 14)\n",
    "\n",
    "\n",
    "    G_right.add_edge(0, 1)\n",
    "    G_right.add_edge(0, 5)\n",
    "    G_right.add_edge(0, 6)\n",
    "\n",
    "    G_right.add_edge(1, 2)\n",
    "    G_right.add_edge(1, 5)\n",
    "    G_right.add_edge(1, 6)\n",
    "    G_right.add_edge(1, 7)\n",
    "\n",
    "    G_right.add_edge(2, 3)\n",
    "    G_right.add_edge(2, 6)\n",
    "    G_right.add_edge(2, 7)\n",
    "    G_right.add_edge(2, 8)\n",
    "\n",
    "    G_right.add_edge(3, 4)\n",
    "    G_right.add_edge(3, 7)\n",
    "    G_right.add_edge(3, 8)\n",
    "\n",
    "    G_right.add_edge(4, 8)\n",
    "\n",
    "    G_right.add_edge(5, 6)\n",
    "    G_right.add_edge(5, 9)\n",
    "    G_right.add_edge(5, 10)\n",
    "\n",
    "    G_right.add_edge(6, 7)\n",
    "    G_right.add_edge(6, 9)\n",
    "    G_right.add_edge(6, 10)\n",
    "\n",
    "    G_right.add_edge(7, 8)\n",
    "    G_right.add_edge(9, 10)"
   ]
  },
  {
   "cell_type": "code",
   "execution_count": 5,
   "metadata": {},
   "outputs": [],
   "source": [
    "def make_rnd_keyboard_layout(G_left, G_right):\n",
    "    left_attrs = {}\n",
    "    right_attrs = {}\n",
    "    \n",
    "    tmp = letters.copy()\n",
    "    for i in range(15):\n",
    "        left_letter = random.choice(tmp)\n",
    "        left_attrs[i] = left_letter\n",
    "        tmp.remove(left_letter)\n",
    "        \n",
    "        if i <= 10:\n",
    "            right_letter = random.choice(tmp)\n",
    "            right_attrs[i] = right_letter\n",
    "            tmp.remove(right_letter)\n",
    "    G_left = nx.relabel_nodes(G_left, left_attrs)\n",
    "    G_right = nx.relabel_nodes(G_right, right_attrs)\n",
    "    return G_left, G_right"
   ]
  },
  {
   "cell_type": "code",
   "execution_count": 6,
   "metadata": {},
   "outputs": [],
   "source": [
    "def create_graphs_dict(num:int):\n",
    "    d_left = {}\n",
    "    d_right = {}\n",
    "    for i in range(num):\n",
    "        d_left[\"{0}\".format(i)] = nx.Graph()\n",
    "        d_right[\"{0}\".format(i)] = nx.Graph()\n",
    "        define_graph(d_left[\"{0}\".format(i)], d_right[\"{0}\".format(i)])\n",
    "        d_left[\"{0}\".format(i)],d_right[\"{0}\".format(i)] =  make_rnd_keyboard_layout(d_left[\"{0}\".format(i)], d_right[\"{0}\".format(i)])\n",
    "        \n",
    "    return d_left, d_right"
   ]
  },
  {
   "cell_type": "code",
   "execution_count": 23,
   "metadata": {},
   "outputs": [],
   "source": [
    "d_left, d_right = create_graphs_dict(2)"
   ]
  },
  {
   "cell_type": "code",
   "execution_count": 57,
   "metadata": {},
   "outputs": [],
   "source": [
    "def mutation(G_left, G_right):\n",
    "    indexes = random.sample(range(26), 2)\n",
    "    G_left_list = list(G_left.nodes)\n",
    "    G_right_list = list(G_right.nodes)\n",
    "    \n",
    "    if indexes[0] <= 14 and indexes[1] <= 14:\n",
    "        l = G_left_list[indexes[0]]\n",
    "        r = G_left_list[indexes[1]]\n",
    "\n",
    "        G_left = nx.relabel_nodes(G_left, {l:r, r:l})        \n",
    "    elif indexes[0] <= 14 and indexes[1] > 14:\n",
    "        l = G_left_list[indexes[0]]\n",
    "        r = G_right_list[indexes[1]-15]\n",
    "        \n",
    "        G_left = nx.relabel_nodes(G_left, {l:r})\n",
    "        G_right = nx.relabel_nodes(G_right, {r:l})\n",
    "    elif indexes[0] > 14 and indexes[1] <= 14:\n",
    "        l = G_left_list[indexes[1]]\n",
    "        r = G_right_list[indexes[0]-15]\n",
    "        \n",
    "        G_left = nx.relabel_nodes(G_left, {l:r})\n",
    "        G_right = nx.relabel_nodes(G_right, {r:l})\n",
    "    elif indexes[0] > 14 and indexes[1] > 14:\n",
    "        l = G_right_list[indexes[0]-15]\n",
    "        r = G_right_list[indexes[1]-15]\n",
    "        \n",
    "        G_right = nx.relabel_nodes(G_right, {l:r, r:l})   \n",
    "    \n",
    "mutation(d_left['0'], d_right['0'])"
   ]
  },
  {
   "cell_type": "code",
   "execution_count": 59,
   "metadata": {},
   "outputs": [],
   "source": [
    "def set_keyboard_layout(G_left, G_right, tab):\n",
    "    left_attrs = {}\n",
    "    right_attrs = {}\n",
    "\n",
    "    for i in range(15):\n",
    "        left_attrs[i] = tab[i]\n",
    "    for i in range(11):\n",
    "        right_attrs[i] = tab[15+i]\n",
    "\n",
    "    G_left = nx.relabel_nodes(G_left, left_attrs)\n",
    "    G_right = nx.relabel_nodes(G_right, right_attrs)\n",
    "\n",
    "    return G_left, G_right"
   ]
  },
  {
   "cell_type": "code",
   "execution_count": 67,
   "metadata": {},
   "outputs": [],
   "source": [
    "def crossover(G_left1, G_right1, G_left2, G_right2):\n",
    "    \"\"\"Executes a partially matched crossover (PMX) on the input individuals\"\"\"\n",
    "    ind1, ind2 = [], []  \n",
    "    G_left_list1, G_left_list2 = list(G_left1.nodes), list(G_left2.nodes)\n",
    "    G_right_list1, G_right_list2 = list(G_right1.nodes), list(G_right2.nodes)\n",
    "    \n",
    "    for i in range(15):\n",
    "        ind1.append(G_left_list1[i])\n",
    "        ind2.append(G_left_list2[i])\n",
    "    for i in range(11):\n",
    "        ind1.append(G_right_list1[i])\n",
    "        ind2.append(G_right_list2[i])\n",
    "    \n",
    "    size = min(len(ind1), len(ind2))\n",
    "    p1, p2 = [0] * size, [0] * size\n",
    "    \n",
    "    cxpoint1 = random.randint(0, size)\n",
    "    cxpoint2 = random.randint(0, size - 1)\n",
    "    \n",
    "    if cxpoint2 >= cxpoint1:\n",
    "        pass\n",
    "    else:  # Swap the two cx points\n",
    "        cxpoint1, cxpoint2 = cxpoint2, cxpoint1\n",
    "        \n",
    "    for i in range(cxpoint1, cxpoint2+1):\n",
    "        temp1 = ind1.index(ind1[i])\n",
    "        temp2 = ind2.index(ind2[i])\n",
    "        # Swap the matched value\n",
    "        ind1[i], ind1[p1[temp2]] = ind2[i], ind1[i]\n",
    "        ind2[i], ind2[p2[temp1]] = ind1[i], ind2[i]\n",
    "        # Position bookkeeping\n",
    "        p1[temp1], p1[temp2] = p1[temp2], p1[temp1]\n",
    "        p2[temp1], p2[temp2] = p2[temp2], p2[temp1]\n",
    "        \n",
    "    set_keyboard_layout(G_left1, G_right1, ind1)\n",
    "    set_keyboard_layout(G_left2, G_right2, ind2)"
   ]
  },
  {
   "cell_type": "code",
   "execution_count": 68,
   "metadata": {},
   "outputs": [],
   "source": [
    "crossover(d_left['0'], d_right['0'], d_left['1'], d_right['1'])"
   ]
  },
  {
   "cell_type": "code",
   "execution_count": 61,
   "metadata": {},
   "outputs": [],
   "source": [
    "def score_word(word, G_left_nodes, G_right_nodes, spl_G_left, spl_G_right):\n",
    "    hand = 'left' if word[0] in G_left_nodes else 'right'\n",
    "    sum_lenght = 0\n",
    "    for i in range(len(word)-1):\n",
    "        if hand == 'left':\n",
    "#             print('left')\n",
    "            if word[i+1] in G_left_nodes:\n",
    "                sum_lenght += spl_G_left[word[i]][word[i+1]]\n",
    "            else:\n",
    "                sum_lenght += 1\n",
    "                hand = 'right'\n",
    "        else:\n",
    "#             print('right')\n",
    "            if word[i+1] in G_right_nodes:\n",
    "                sum_lenght += spl_G_right[word[i]][word[i+1]]\n",
    "            else:\n",
    "                sum_lenght += 1\n",
    "                hand = 'left'\n",
    "    return sum_lenght"
   ]
  },
  {
   "cell_type": "code",
   "execution_count": 62,
   "metadata": {},
   "outputs": [],
   "source": [
    "def score(word_list, G_left, G_right):\n",
    "    G_left_nodes = G_left.nodes()\n",
    "    G_right_nodes = G_right.nodes()\n",
    "    spl_G_left = dict(nx.all_pairs_shortest_path_length(G_left))\n",
    "    spl_G_right = dict(nx.all_pairs_shortest_path_length(G_right))\n",
    "    sum_len = 0\n",
    "    for word in word_list:\n",
    "        sum_len += score_word(word, G_left_nodes, G_right_nodes, spl_G_left, spl_G_right)\n",
    "    return sum_len/len(word_list)"
   ]
  },
  {
   "cell_type": "code",
   "execution_count": 15,
   "metadata": {},
   "outputs": [],
   "source": [
    "import numpy.random as npr\n",
    "\n",
    "def selectOne(population):\n",
    "    max = sum([c['score'] for c in population])\n",
    "    selection_probs = [c['score']/max for c in population]\n",
    "    return npr.choice(len(population), p=selection_probs)"
   ]
  },
  {
   "cell_type": "code",
   "execution_count": 16,
   "metadata": {},
   "outputs": [],
   "source": [
    "def selection(population):\n",
    "    length = min(len(d_left), len(d_right))\n",
    "    for i in range(length):\n",
    "        chosen = selectOne(population)\n",
    "        d_left[i] = d_left[chosen]\n",
    "        d_right[i] = d_right[chosen]"
   ]
  },
  {
   "cell_type": "code",
   "execution_count": 17,
   "metadata": {},
   "outputs": [],
   "source": [
    "def algorithm(d1, d2, steps):\n",
    "    for i in range(steps):\n",
    "        "
   ]
  },
  {
   "cell_type": "code",
   "execution_count": 19,
   "metadata": {},
   "outputs": [
    {
     "name": "stdout",
     "output_type": "stream",
     "text": [
      "Wall time: 34.9 ms\n"
     ]
    },
    {
     "data": {
      "text/plain": [
       "8.367254862642872"
      ]
     },
     "execution_count": 19,
     "metadata": {},
     "output_type": "execute_result"
    }
   ],
   "source": [
    "%%time\n",
    "score(words, d_left[\"1\"], d_right[\"1\"])"
   ]
  },
  {
   "cell_type": "code",
   "execution_count": 71,
   "metadata": {},
   "outputs": [
    {
     "data": {
      "text/plain": [
       "7.3936234208943254"
      ]
     },
     "execution_count": 71,
     "metadata": {},
     "output_type": "execute_result"
    }
   ],
   "source": [
    "score(words, d_left[\"1\"], d_right[\"1\"])"
   ]
  },
  {
   "cell_type": "code",
   "execution_count": 43,
   "metadata": {},
   "outputs": [
    {
     "data": {
      "image/png": "[encoded data removed]",
      "text/plain": [
       "<Figure size 432x288 with 1 Axes>"
      ]
     },
     "metadata": {},
     "output_type": "display_data"
    }
   ],
   "source": [
    "nx.draw(d_left['0'], labels=d_left['0'].nodes)"
   ]
  },
  {
   "cell_type": "code",
   "execution_count": 27,
   "metadata": {},
   "outputs": [],
   "source": [
    "#nx.draw(d_right['0'], labels=d_right['0'].nodes)"
   ]
  },
  {
   "cell_type": "code",
   "execution_count": 41,
   "metadata": {},
   "outputs": [
    {
     "data": {
      "text/plain": [
       "NodeView(('s', 'i', 'm', 'g', 't', 'd', 'h', 'a', 'q', 'f', 'b', 'k', 'v', 'y', 'o'))"
      ]
     },
     "execution_count": 41,
     "metadata": {},
     "output_type": "execute_result"
    }
   ],
   "source": [
    "d_left['0'].nodes"
   ]
  },
  {
   "cell_type": "code",
   "execution_count": null,
   "metadata": {},
   "outputs": [],
   "source": []
  }
 ],
 "metadata": {
  "kernelspec": {
   "display_name": "Python 3",
   "language": "python",
   "name": "python3"
  },
  "language_info": {
   "codemirror_mode": {
    "name": "ipython",
    "version": 3
   },
   "file_extension": ".py",
   "mimetype": "text/x-python",
   "name": "python",
   "nbconvert_exporter": "python",
   "pygments_lexer": "ipython3",
   "version": "3.8.3"
  }
 },
 "nbformat": 4,
 "nbformat_minor": 4
}
