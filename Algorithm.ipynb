{
 "cells": [
  {
   "cell_type": "code",
   "execution_count": 123,
   "metadata": {},
   "outputs": [],
   "source": [
    "import networkx as nx\n",
    "import numpy as np\n",
    "import random\n",
    "import nltk"
   ]
  },
  {
   "cell_type": "code",
   "execution_count": 124,
   "metadata": {},
   "outputs": [],
   "source": [
    "letters = ['q', 'w', 'e', 'r', 't', 'y', 'u', 'i', 'o', 'p',\n",
    "           'a', 's', 'd', 'f', 'g', 'h', 'j', 'k', 'l',\n",
    "           'z', 'x', 'c', 'v', 'b', 'n', 'm']"
   ]
  },
  {
   "cell_type": "code",
   "execution_count": 125,
   "metadata": {},
   "outputs": [],
   "source": [
    "f = open('words/google-10000-english.txt', 'r')\n",
    "words = f.readlines()\n",
    "words = [word.rstrip() for word in words if len(word.rstrip()) > 1]"
   ]
  },
  {
   "cell_type": "code",
   "execution_count": 126,
   "metadata": {},
   "outputs": [],
   "source": [
    "def define_graph(G_left, G_right):\n",
    "    G_left.add_nodes_from(range(0,15))\n",
    "    G_right.add_nodes_from(range(0,11))\n",
    "\n",
    "    G_left.add_edge(0, 1)\n",
    "    G_left.add_edge(0, 5)\n",
    "    G_left.add_edge(0, 6)\n",
    "\n",
    "    G_left.add_edge(1, 2)\n",
    "    G_left.add_edge(1, 5)\n",
    "    G_left.add_edge(1, 6)\n",
    "    G_left.add_edge(1, 7)\n",
    "\n",
    "    G_left.add_edge(2, 3)\n",
    "    G_left.add_edge(2, 6)\n",
    "    G_left.add_edge(2, 7)\n",
    "    G_left.add_edge(2, 8)\n",
    "\n",
    "    G_left.add_edge(3, 4)\n",
    "    G_left.add_edge(3, 7)\n",
    "    G_left.add_edge(3, 8)\n",
    "    G_left.add_edge(3, 9)\n",
    "\n",
    "    G_left.add_edge(4, 8)\n",
    "    G_left.add_edge(4, 9)\n",
    "\n",
    "    G_left.add_edge(5, 6)\n",
    "    G_left.add_edge(5, 10)\n",
    "    G_left.add_edge(5, 11)\n",
    "\n",
    "    G_left.add_edge(6, 7)\n",
    "    G_left.add_edge(6, 10)\n",
    "    G_left.add_edge(6, 11)\n",
    "    G_left.add_edge(6, 12)\n",
    "\n",
    "    G_left.add_edge(7, 8)\n",
    "    G_left.add_edge(7, 11)\n",
    "    G_left.add_edge(7, 12)\n",
    "    G_left.add_edge(7, 13)\n",
    "\n",
    "    G_left.add_edge(8, 9)\n",
    "    G_left.add_edge(8, 12)\n",
    "    G_left.add_edge(8, 13)\n",
    "    G_left.add_edge(8, 14)\n",
    "\n",
    "    G_left.add_edge(9, 13)\n",
    "    G_left.add_edge(9, 14)\n",
    "\n",
    "    G_left.add_edge(10, 11)\n",
    "    G_left.add_edge(11, 12)\n",
    "    G_left.add_edge(12, 13)\n",
    "    G_left.add_edge(13, 14)\n",
    "\n",
    "\n",
    "    G_right.add_edge(0, 1)\n",
    "    G_right.add_edge(0, 5)\n",
    "    G_right.add_edge(0, 6)\n",
    "\n",
    "    G_right.add_edge(1, 2)\n",
    "    G_right.add_edge(1, 5)\n",
    "    G_right.add_edge(1, 6)\n",
    "    G_right.add_edge(1, 7)\n",
    "\n",
    "    G_right.add_edge(2, 3)\n",
    "    G_right.add_edge(2, 6)\n",
    "    G_right.add_edge(2, 7)\n",
    "    G_right.add_edge(2, 8)\n",
    "\n",
    "    G_right.add_edge(3, 4)\n",
    "    G_right.add_edge(3, 7)\n",
    "    G_right.add_edge(3, 8)\n",
    "\n",
    "    G_right.add_edge(4, 8)\n",
    "\n",
    "    G_right.add_edge(5, 6)\n",
    "    G_right.add_edge(5, 9)\n",
    "    G_right.add_edge(5, 10)\n",
    "\n",
    "    G_right.add_edge(6, 7)\n",
    "    G_right.add_edge(6, 9)\n",
    "    G_right.add_edge(6, 10)\n",
    "\n",
    "    G_right.add_edge(7, 8)\n",
    "    G_right.add_edge(9, 10)"
   ]
  },
  {
   "cell_type": "code",
   "execution_count": 127,
   "metadata": {},
   "outputs": [],
   "source": [
    "def make_rnd_keyboard_layout(G_left, G_right):\n",
    "    left_attrs = {}\n",
    "    right_attrs = {}\n",
    "    \n",
    "    tmp = letters.copy()\n",
    "    for i in range(15):\n",
    "        left_letter = random.choice(tmp)\n",
    "        left_attrs[i] = left_letter\n",
    "        tmp.remove(left_letter)\n",
    "        \n",
    "        if i <= 10:\n",
    "            right_letter = random.choice(tmp)\n",
    "            right_attrs[i] = right_letter\n",
    "            tmp.remove(right_letter)\n",
    "    G_left = nx.relabel_nodes(G_left, left_attrs)\n",
    "    G_right = nx.relabel_nodes(G_right, right_attrs)\n",
    "    return G_left, G_right"
   ]
  },
  {
   "cell_type": "code",
   "execution_count": 128,
   "metadata": {},
   "outputs": [],
   "source": [
    "def create_graphs_dict(num:int):\n",
    "    d_left = {}\n",
    "    d_right = {}\n",
    "    for i in range(num):\n",
    "        d_left[\"{0}\".format(i)] = nx.Graph()\n",
    "        d_right[\"{0}\".format(i)] = nx.Graph()\n",
    "        define_graph(d_left[\"{0}\".format(i)], d_right[\"{0}\".format(i)])\n",
    "        d_left[\"{0}\".format(i)],d_right[\"{0}\".format(i)] =  make_rnd_keyboard_layout(d_left[\"{0}\".format(i)], d_right[\"{0}\".format(i)])\n",
    "        \n",
    "    return d_left, d_right"
   ]
  },
  {
   "cell_type": "code",
   "execution_count": 129,
   "metadata": {},
   "outputs": [],
   "source": [
    "def mutation(G_left, G_right):\n",
    "    indexes = random.sample(range(26), 2)\n",
    "    G_left_list = list(G_left.nodes)\n",
    "    G_right_list = list(G_right.nodes)\n",
    "    \n",
    "    if indexes[0] <= 14 and indexes[1] <= 14:\n",
    "        l = G_left_list[indexes[0]]\n",
    "        r = G_left_list[indexes[1]]\n",
    "\n",
    "        G_left = nx.relabel_nodes(G_left, {l:r, r:l})        \n",
    "    elif indexes[0] <= 14 and indexes[1] > 14:\n",
    "        l = G_left_list[indexes[0]]\n",
    "        r = G_right_list[indexes[1]-15]\n",
    "        \n",
    "        G_left = nx.relabel_nodes(G_left, {l:r})\n",
    "        G_right = nx.relabel_nodes(G_right, {r:l})\n",
    "    elif indexes[0] > 14 and indexes[1] <= 14:\n",
    "        l = G_left_list[indexes[1]]\n",
    "        r = G_right_list[indexes[0]-15]\n",
    "        \n",
    "        G_left = nx.relabel_nodes(G_left, {l:r})\n",
    "        G_right = nx.relabel_nodes(G_right, {r:l})\n",
    "    elif indexes[0] > 14 and indexes[1] > 14:\n",
    "        l = G_right_list[indexes[0]-15]\n",
    "        r = G_right_list[indexes[1]-15]\n",
    "        \n",
    "        G_right = nx.relabel_nodes(G_right, {l:r, r:l})   "
   ]
  },
  {
   "cell_type": "code",
   "execution_count": 130,
   "metadata": {},
   "outputs": [],
   "source": [
    "def set_keyboard_layout(G_left, G_right, tab):\n",
    "    left_attrs = {}\n",
    "    right_attrs = {}\n",
    "\n",
    "    for i in range(15):\n",
    "        left_attrs[i] = tab[i]\n",
    "    for i in range(11):\n",
    "        right_attrs[i] = tab[15+i]\n",
    "\n",
    "    G_left = nx.relabel_nodes(G_left, left_attrs)\n",
    "    G_right = nx.relabel_nodes(G_right, right_attrs)\n",
    "\n",
    "    return G_left, G_right"
   ]
  },
  {
   "cell_type": "code",
   "execution_count": 131,
   "metadata": {},
   "outputs": [],
   "source": [
    "def crossover(G_left1, G_right1, G_left2, G_right2):\n",
    "    \"\"\"Executes a partially matched crossover (PMX) on the input individuals\"\"\"\n",
    "    ind1, ind2 = [], []  \n",
    "    G_left_list1, G_left_list2 = list(G_left1.nodes), list(G_left2.nodes)\n",
    "    G_right_list1, G_right_list2 = list(G_right1.nodes), list(G_right2.nodes)\n",
    "    \n",
    "    for i in range(15):\n",
    "        ind1.append(G_left_list1[i])\n",
    "        ind2.append(G_left_list2[i])\n",
    "    for i in range(11):\n",
    "        ind1.append(G_right_list1[i])\n",
    "        ind2.append(G_right_list2[i])\n",
    "    \n",
    "    size = min(len(ind1), len(ind2))\n",
    "    p1, p2 = [0] * size, [0] * size\n",
    "    \n",
    "    cxpoint1 = random.randint(0, size)\n",
    "    cxpoint2 = random.randint(0, size - 1)\n",
    "    \n",
    "    if cxpoint2 >= cxpoint1:\n",
    "        pass\n",
    "    else:  # Swap the two cx points\n",
    "        cxpoint1, cxpoint2 = cxpoint2, cxpoint1\n",
    "        \n",
    "    for i in range(cxpoint1, cxpoint2):\n",
    "        temp1 = ind1.index(ind1[i])\n",
    "        temp2 = ind2.index(ind2[i])\n",
    "        # Swap the matched value\n",
    "        ind1[i], ind1[p1[temp2]] = ind2[i], ind1[i]\n",
    "        ind2[i], ind2[p2[temp1]] = ind1[i], ind2[i]\n",
    "        # Position bookkeeping\n",
    "        p1[temp1], p1[temp2] = p1[temp2], p1[temp1]\n",
    "        p2[temp1], p2[temp2] = p2[temp2], p2[temp1]\n",
    "        \n",
    "    set_keyboard_layout(G_left1, G_right1, ind1)\n",
    "    set_keyboard_layout(G_left2, G_right2, ind2)"
   ]
  },
  {
   "cell_type": "code",
   "execution_count": 132,
   "metadata": {},
   "outputs": [],
   "source": [
    "#crossover(d_left['0'], d_right['0'], d_left['1'], d_right['1'])"
   ]
  },
  {
   "cell_type": "code",
   "execution_count": 133,
   "metadata": {},
   "outputs": [],
   "source": [
    "def score_word(word, G_left_nodes, G_right_nodes, spl_G_left, spl_G_right):\n",
    "    hand = 'left' if word[0] in G_left_nodes else 'right'\n",
    "    sum_lenght = 0\n",
    "    for i in range(len(word)-1):\n",
    "        if hand == 'left':\n",
    "#             print('left')\n",
    "            if word[i+1] in G_left_nodes:\n",
    "                sum_lenght += spl_G_left[word[i]][word[i+1]]\n",
    "            else:\n",
    "                sum_lenght += 1\n",
    "                hand = 'right'\n",
    "        else:\n",
    "#             print('right')\n",
    "            if word[i+1] in G_right_nodes:\n",
    "                sum_lenght += spl_G_right[word[i]][word[i+1]]\n",
    "            else:\n",
    "                sum_lenght += 1\n",
    "                hand = 'left'\n",
    "    return sum_lenght"
   ]
  },
  {
   "cell_type": "code",
   "execution_count": 134,
   "metadata": {},
   "outputs": [],
   "source": [
    "def score(word_list, G_left, G_right):\n",
    "    G_left_nodes = G_left.nodes()\n",
    "    G_right_nodes = G_right.nodes()\n",
    "    spl_G_left = dict(nx.all_pairs_shortest_path_length(G_left))\n",
    "    spl_G_right = dict(nx.all_pairs_shortest_path_length(G_right))\n",
    "    sum_len = 0\n",
    "    for word in word_list:\n",
    "        sum_len += score_word(word, G_left_nodes, G_right_nodes, spl_G_left, spl_G_right)\n",
    "    return len(word_list)/sum_len"
   ]
  },
  {
   "cell_type": "code",
   "execution_count": 135,
   "metadata": {},
   "outputs": [],
   "source": [
    "import numpy.random as npr\n",
    "\n",
    "\"\"\"\n",
    "def selectOne(d_left, d_right, fitness):\n",
    "    max = sum(fitness)\n",
    "    selection_probs = [c/max for c in fitness]\n",
    "    #print(selection_probs)\n",
    "    return npr.choice(min(len(d_left), len(d_right)), p=selection_probs)\n",
    "\n",
    "def selection(d_left, d_right, fitness):\n",
    "    length = min(len(d_left), len(d_right))\n",
    "    for i in range(length):\n",
    "        chosen = selectOne(d_left, d_right, fitness)\n",
    "        d_left['{}'.format(i)] = d_left['{}'.format(chosen)]\n",
    "        d_right['{}'.format(i)] = d_right['{}'.format(chosen)]\n",
    "\"\"\"\n",
    "\n",
    "def selectOne(tournament, fitness):\n",
    "    fit = [fitness[i] for i in tournament]\n",
    "    max_index = fitness.index(max(fit))\n",
    "    return max_index\n",
    "\n",
    "def selection(d_left, d_right, fitness, t):\n",
    "    length = min(len(d_left), len(d_right))\n",
    "    for i in range(length):\n",
    "        r = random.randint(1, t)\n",
    "        tour = random.sample(range(0,length), r)\n",
    "        chosen = selectOne(tour, fitness)\n",
    "        d_left['{}'.format(i)] = d_left['{}'.format(chosen)]\n",
    "        d_right['{}'.format(i)] = d_right['{}'.format(chosen)]"
   ]
  },
  {
   "cell_type": "code",
   "execution_count": 136,
   "metadata": {},
   "outputs": [
    {
     "data": {
      "text/plain": [
       "'\\nd_left, d_right = create_graphs_dict(200)\\n\\nfitness = [ score(words, l, r) for i,(l,r) in enumerate(zip(d_left.values(), d_right.values())) ]\\n\\nselection(d_left, d_right, fitness)\\n'"
      ]
     },
     "execution_count": 136,
     "metadata": {},
     "output_type": "execute_result"
    }
   ],
   "source": [
    "\"\"\"\n",
    "d_left, d_right = create_graphs_dict(200)\n",
    "\n",
    "fitness = [ score(words, l, r) for i,(l,r) in enumerate(zip(d_left.values(), d_right.values())) ]\n",
    "\n",
    "selection(d_left, d_right, fitness)\n",
    "\"\"\""
   ]
  },
  {
   "cell_type": "code",
   "execution_count": 137,
   "metadata": {},
   "outputs": [],
   "source": [
    "import itertools\n",
    "\n",
    "def algorithm(d_left, d_right, steps, mutation_prob=0, crossover_prob=0, t=5):\n",
    "    \n",
    "    sum_list = []\n",
    "    max_list = []\n",
    "    min_list = []\n",
    "    max_score = 0\n",
    "    max_index = 0\n",
    "    \n",
    "    length = min(len(d_left), len(d_right))\n",
    "    for i in range(steps):\n",
    "        print('Generation {}'.format(i))\n",
    "        \n",
    "        fitness = [ score(words, l, r) for i,(l,r) in enumerate(zip(d_left.values(), d_right.values())) ]\n",
    "        print('sum fitness = ', sum(fitness))\n",
    "        sum_list.append(sum(fitness))\n",
    "        print('max fitness = ', max(fitness))\n",
    "        print('max index = ', fitness.index(max(fitness)))\n",
    "        if max_score < max(fitness):\n",
    "            max_score = max(fitness)\n",
    "            max_index = fitness.index(max(fitness))\n",
    "        print('min fitness = ', min(fitness))\n",
    "        min_list.append(min(fitness))        \n",
    "\n",
    "        selection(d_left, d_right, fitness, t)\n",
    "         \n",
    "        for y in range(length):\n",
    "            if crossover_prob >= npr.rand():\n",
    "                p = random.sample(range(length), 2)\n",
    "                crossover(d_left['{}'.format(p[0])], d_right['{}'.format(p[0])],\n",
    "                          d_left['{}'.format(p[1])], d_right['{}'.format(p[1])])\n",
    "        \n",
    "        for l,r in zip(d_left.values(), d_right.values()):\n",
    "            if mutation_prob >= npr.rand():\n",
    "                mutation(l, r)\n",
    "                \n",
    "    return sum_list, max_list, min_list, max_score, max_index"
   ]
  },
  {
   "cell_type": "code",
   "execution_count": 138,
   "metadata": {},
   "outputs": [
    {
     "name": "stdout",
     "output_type": "stream",
     "text": [
      "Generation 0\n",
      "sum fitness =  25.17924037457399\n",
      "max fitness =  0.14511646855130872\n",
      "max index =  3\n",
      "min fitness =  0.10711485797132578\n",
      "Generation 1\n",
      "sum fitness =  26.37258922124842\n",
      "max fitness =  0.14364306699694682\n",
      "max index =  90\n",
      "min fitness =  0.11259115435847651\n",
      "Generation 2\n",
      "sum fitness =  27.404404312271044\n",
      "max fitness =  0.14364306699694682\n",
      "max index =  5\n",
      "min fitness =  0.1285209906450532\n",
      "Generation 3\n",
      "sum fitness =  27.8639840796359\n",
      "max fitness =  0.14246536209112984\n",
      "max index =  14\n",
      "min fitness =  0.1296351655207372\n",
      "Generation 4\n",
      "sum fitness =  28.09372141510099\n",
      "max fitness =  0.14246536209112984\n",
      "max index =  4\n",
      "min fitness =  0.13927055406613048\n",
      "Generation 5\n",
      "sum fitness =  28.493072418226003\n",
      "max fitness =  0.14246536209112984\n",
      "max index =  0\n",
      "min fitness =  0.14246536209112984\n",
      "Generation 6\n",
      "sum fitness =  28.493072418226003\n",
      "max fitness =  0.14246536209112984\n",
      "max index =  0\n",
      "min fitness =  0.14246536209112984\n",
      "Generation 7\n",
      "sum fitness =  28.493072418226003\n",
      "max fitness =  0.14246536209112984\n",
      "max index =  0\n",
      "min fitness =  0.14246536209112984\n",
      "Generation 8\n",
      "sum fitness =  28.493072418226003\n",
      "max fitness =  0.14246536209112984\n",
      "max index =  0\n",
      "min fitness =  0.14246536209112984\n",
      "Generation 9\n",
      "sum fitness =  28.493072418226003\n",
      "max fitness =  0.14246536209112984\n",
      "max index =  0\n",
      "min fitness =  0.14246536209112984\n",
      "Generation 10\n",
      "sum fitness =  28.493072418226003\n",
      "max fitness =  0.14246536209112984\n",
      "max index =  0\n",
      "min fitness =  0.14246536209112984\n",
      "Generation 11\n",
      "sum fitness =  28.493072418226003\n",
      "max fitness =  0.14246536209112984\n",
      "max index =  0\n",
      "min fitness =  0.14246536209112984\n",
      "Generation 12\n",
      "sum fitness =  28.493072418226003\n",
      "max fitness =  0.14246536209112984\n",
      "max index =  0\n",
      "min fitness =  0.14246536209112984\n",
      "Generation 13\n",
      "sum fitness =  28.493072418226003\n",
      "max fitness =  0.14246536209112984\n",
      "max index =  0\n",
      "min fitness =  0.14246536209112984\n",
      "Generation 14\n",
      "sum fitness =  28.493072418226003\n",
      "max fitness =  0.14246536209112984\n",
      "max index =  0\n",
      "min fitness =  0.14246536209112984\n",
      "Wall time: 1min 21s\n"
     ]
    }
   ],
   "source": [
    "%%time\n",
    "d_left, d_right = create_graphs_dict(200)\n",
    "\n",
    "sum_list, max_list, min_list, max_score, max_index = algorithm(d_left, d_right, 15, 1, 0.01, 5)"
   ]
  },
  {
   "cell_type": "code",
   "execution_count": 139,
   "metadata": {},
   "outputs": [
    {
     "data": {
      "text/plain": [
       "(NodeView(('z', 't', 'k', 'l', 'm', 's', 'a', 'h', 'r', 'g', 'c', 'v', 'f', 'd', 'j')),\n",
       " NodeView(('p', 'b', 'n', 'w', 'x', 'u', 'i', 'y', 'q', 'o', 'e')))"
      ]
     },
     "execution_count": 139,
     "metadata": {},
     "output_type": "execute_result"
    }
   ],
   "source": [
    "d_left['{}'.format(max_index)].nodes, d_right['{}'.format(max_index)].nodes"
   ]
  },
  {
   "cell_type": "code",
   "execution_count": 140,
   "metadata": {},
   "outputs": [
    {
     "data": {
      "text/plain": [
       "[<matplotlib.lines.Line2D at 0x1d84fbe26a0>]"
      ]
     },
     "execution_count": 140,
     "metadata": {},
     "output_type": "execute_result"
    },
    {
     "data": {
      "image/png": "[encoded data removed]",
      "text/plain": [
       "<Figure size 432x288 with 1 Axes>"
      ]
     },
     "metadata": {
      "needs_background": "light"
     },
     "output_type": "display_data"
    }
   ],
   "source": [
    "import matplotlib.pyplot as plt\n",
    "plt.plot(sum_list)"
   ]
  },
  {
   "cell_type": "code",
   "execution_count": 146,
   "metadata": {},
   "outputs": [
    {
     "data": {
      "text/plain": [
       "[<matplotlib.lines.Line2D at 0x1d84f391250>]"
      ]
     },
     "execution_count": 146,
     "metadata": {},
     "output_type": "execute_result"
    },
    {
     "data": {
      "image/png": "[encoded data removed]",
      "text/plain": [
       "<Figure size 432x288 with 1 Axes>"
      ]
     },
     "metadata": {
      "needs_background": "light"
     },
     "output_type": "display_data"
    }
   ],
   "source": [
    "plt.plot(max_list)"
   ]
  },
  {
   "cell_type": "code",
   "execution_count": 142,
   "metadata": {},
   "outputs": [
    {
     "data": {
      "text/plain": [
       "(NodeView(('q', 'w', 'e', 'r', 't', 'a', 's', 'd', 'f', 'g', 'z', 'x', 'c', 'v', 'b')),\n",
       " NodeView(('y', 'u', 'i', 'o', 'p', 'h', 'j', 'k', 'l', 'n', 'm')))"
      ]
     },
     "execution_count": 142,
     "metadata": {},
     "output_type": "execute_result"
    }
   ],
   "source": [
    "qwerty =  ['q', 'w', 'e', 'r', 't', \n",
    "           'a', 's', 'd', 'f', 'g',\n",
    "           'z', 'x', 'c', 'v', 'b',\n",
    "           \n",
    "           'y', 'u', 'i', 'o', 'p',\n",
    "           'h', 'j', 'k', 'l',\n",
    "           'n', 'm']\n",
    "\n",
    "qwerty_left = nx.Graph()\n",
    "qwerty_right = nx.Graph()\n",
    "define_graph(qwerty_left, qwerty_right)\n",
    "qwerty_left, qwerty_right = set_keyboard_layout(qwerty_left, qwerty_right, qwerty)\n",
    "\n",
    "qwerty_left.nodes, qwerty_right.nodes"
   ]
  },
  {
   "cell_type": "code",
   "execution_count": 143,
   "metadata": {},
   "outputs": [
    {
     "data": {
      "text/plain": [
       "0.12419374922176565"
      ]
     },
     "execution_count": 143,
     "metadata": {},
     "output_type": "execute_result"
    }
   ],
   "source": [
    "score(words, qwerty_left, qwerty_right)"
   ]
  },
  {
   "cell_type": "code",
   "execution_count": 144,
   "metadata": {},
   "outputs": [],
   "source": [
    "#nx.draw(G=d_left['{}'.format(max_index)], with_labels = True)"
   ]
  },
  {
   "cell_type": "code",
   "execution_count": 145,
   "metadata": {},
   "outputs": [],
   "source": [
    "#nx.draw(d_right['{}'.format(max_index)], with_labels = True)"
   ]
  }
 ],
 "metadata": {
  "kernelspec": {
   "display_name": "Python 3",
   "language": "python",
   "name": "python3"
  },
  "language_info": {
   "codemirror_mode": {
    "name": "ipython",
    "version": 3
   },
   "file_extension": ".py",
   "mimetype": "text/x-python",
   "name": "python",
   "nbconvert_exporter": "python",
   "pygments_lexer": "ipython3",
   "version": "3.8.3"
  }
 },
 "nbformat": 4,
 "nbformat_minor": 4
}
