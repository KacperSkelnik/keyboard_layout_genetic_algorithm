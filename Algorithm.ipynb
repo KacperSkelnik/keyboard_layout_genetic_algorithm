{
 "cells": [
  {
   "cell_type": "code",
   "execution_count": 1,
   "metadata": {},
   "outputs": [],
   "source": [
    "import networkx as nx\n",
    "import numpy as np\n",
    "import random\n",
    "import nltk\n",
    "import pandas as pd\n",
    "import pickle"
   ]
  },
  {
   "cell_type": "code",
   "execution_count": 2,
   "metadata": {},
   "outputs": [],
   "source": [
    "letters = ['q', 'w', 'e', 'r', 't', 'y', 'u', 'i', 'o', 'p',\n",
    "           'a', 's', 'd', 'f', 'g', 'h', 'j', 'k', 'l',\n",
    "           'z', 'x', 'c', 'v', 'b', 'n', 'm']"
   ]
  },
  {
   "cell_type": "code",
   "execution_count": 3,
   "metadata": {},
   "outputs": [],
   "source": [
    "# f = open('words/google-10000-english.txt', 'r')\n",
    "# words = f.readlines()\n",
    "# words = [word.rstrip() for word in words if len(word.rstrip()) > 1]"
   ]
  },
  {
   "cell_type": "code",
   "execution_count": 4,
   "metadata": {},
   "outputs": [],
   "source": [
    "df = pd.read_pickle('words/freqword.p')"
   ]
  },
  {
   "cell_type": "code",
   "execution_count": 5,
   "metadata": {},
   "outputs": [],
   "source": [
    "df.set_index('word', inplace=True)"
   ]
  },
  {
   "cell_type": "code",
   "execution_count": 6,
   "metadata": {},
   "outputs": [],
   "source": [
    "words = df.to_dict('index')"
   ]
  },
  {
   "cell_type": "code",
   "execution_count": 7,
   "metadata": {},
   "outputs": [
    {
     "data": {
      "text/plain": [
       "<method 'isalpha' of 'str' objects>"
      ]
     },
     "execution_count": 7,
     "metadata": {},
     "output_type": "execute_result"
    }
   ],
   "source": [
    "str.isalpha"
   ]
  },
  {
   "cell_type": "code",
   "execution_count": 8,
   "metadata": {},
   "outputs": [],
   "source": [
    "words = {key:words[key] for key in words.keys() if key.isalpha()}"
   ]
  },
  {
   "cell_type": "code",
   "execution_count": 9,
   "metadata": {},
   "outputs": [],
   "source": [
    "def define_graph(G_left, G_right):\n",
    "    G_left.add_nodes_from(range(0,15))\n",
    "    G_right.add_nodes_from(range(0,11))\n",
    "\n",
    "    G_left.add_edge(0, 1)\n",
    "    G_left.add_edge(0, 5)\n",
    "    G_left.add_edge(0, 6)\n",
    "\n",
    "    G_left.add_edge(1, 2)\n",
    "    G_left.add_edge(1, 5)\n",
    "    G_left.add_edge(1, 6)\n",
    "    G_left.add_edge(1, 7)\n",
    "\n",
    "    G_left.add_edge(2, 3)\n",
    "    G_left.add_edge(2, 6)\n",
    "    G_left.add_edge(2, 7)\n",
    "    G_left.add_edge(2, 8)\n",
    "\n",
    "    G_left.add_edge(3, 4)\n",
    "    G_left.add_edge(3, 7)\n",
    "    G_left.add_edge(3, 8)\n",
    "    G_left.add_edge(3, 9)\n",
    "\n",
    "    G_left.add_edge(4, 8)\n",
    "    G_left.add_edge(4, 9)\n",
    "\n",
    "    G_left.add_edge(5, 6)\n",
    "    G_left.add_edge(5, 10)\n",
    "    G_left.add_edge(5, 11)\n",
    "\n",
    "    G_left.add_edge(6, 7)\n",
    "    G_left.add_edge(6, 10)\n",
    "    G_left.add_edge(6, 11)\n",
    "    G_left.add_edge(6, 12)\n",
    "\n",
    "    G_left.add_edge(7, 8)\n",
    "    G_left.add_edge(7, 11)\n",
    "    G_left.add_edge(7, 12)\n",
    "    G_left.add_edge(7, 13)\n",
    "\n",
    "    G_left.add_edge(8, 9)\n",
    "    G_left.add_edge(8, 12)\n",
    "    G_left.add_edge(8, 13)\n",
    "    G_left.add_edge(8, 14)\n",
    "\n",
    "    G_left.add_edge(9, 13)\n",
    "    G_left.add_edge(9, 14)\n",
    "\n",
    "    G_left.add_edge(10, 11)\n",
    "    G_left.add_edge(11, 12)\n",
    "    G_left.add_edge(12, 13)\n",
    "    G_left.add_edge(13, 14)\n",
    "\n",
    "\n",
    "    G_right.add_edge(0, 1)\n",
    "    G_right.add_edge(0, 5)\n",
    "    G_right.add_edge(0, 6)\n",
    "\n",
    "    G_right.add_edge(1, 2)\n",
    "    G_right.add_edge(1, 5)\n",
    "    G_right.add_edge(1, 6)\n",
    "    G_right.add_edge(1, 7)\n",
    "\n",
    "    G_right.add_edge(2, 3)\n",
    "    G_right.add_edge(2, 6)\n",
    "    G_right.add_edge(2, 7)\n",
    "    G_right.add_edge(2, 8)\n",
    "\n",
    "    G_right.add_edge(3, 4)\n",
    "    G_right.add_edge(3, 7)\n",
    "    G_right.add_edge(3, 8)\n",
    "\n",
    "    G_right.add_edge(4, 8)\n",
    "\n",
    "    G_right.add_edge(5, 6)\n",
    "    G_right.add_edge(5, 9)\n",
    "    G_right.add_edge(5, 10)\n",
    "\n",
    "    G_right.add_edge(6, 7)\n",
    "    G_right.add_edge(6, 9)\n",
    "    G_right.add_edge(6, 10)\n",
    "\n",
    "    G_right.add_edge(7, 8)\n",
    "    G_right.add_edge(9, 10)"
   ]
  },
  {
   "cell_type": "code",
   "execution_count": 10,
   "metadata": {},
   "outputs": [],
   "source": [
    "def make_rnd_keyboard_layout(G_left, G_right):\n",
    "    left_attrs = {}\n",
    "    right_attrs = {}\n",
    "    \n",
    "    tmp = letters.copy()\n",
    "    for i in range(15):\n",
    "        left_letter = random.choice(tmp)\n",
    "        left_attrs[i] = left_letter\n",
    "        tmp.remove(left_letter)\n",
    "        \n",
    "        if i <= 10:\n",
    "            right_letter = random.choice(tmp)\n",
    "            right_attrs[i] = right_letter\n",
    "            tmp.remove(right_letter)\n",
    "    G_left = nx.relabel_nodes(G_left, left_attrs)\n",
    "    G_right = nx.relabel_nodes(G_right, right_attrs)\n",
    "    return G_left, G_right"
   ]
  },
  {
   "cell_type": "code",
   "execution_count": 11,
   "metadata": {},
   "outputs": [],
   "source": [
    "def create_graphs_dict(num:int):\n",
    "    d_left = {}\n",
    "    d_right = {}\n",
    "    for i in range(num):\n",
    "        d_left[\"{0}\".format(i)] = nx.Graph()\n",
    "        d_right[\"{0}\".format(i)] = nx.Graph()\n",
    "        define_graph(d_left[\"{0}\".format(i)], d_right[\"{0}\".format(i)])\n",
    "        d_left[\"{0}\".format(i)],d_right[\"{0}\".format(i)] =  make_rnd_keyboard_layout(d_left[\"{0}\".format(i)], d_right[\"{0}\".format(i)])\n",
    "        \n",
    "    return d_left, d_right"
   ]
  },
  {
   "cell_type": "code",
   "execution_count": 12,
   "metadata": {},
   "outputs": [],
   "source": [
    "def mutation(G_left, G_right):\n",
    "    indexes = random.sample(range(26), 2)\n",
    "    G_left_list = list(G_left.nodes)\n",
    "    G_right_list = list(G_right.nodes)\n",
    "    \n",
    "    if indexes[0] <= 14 and indexes[1] <= 14:\n",
    "        l = G_left_list[indexes[0]]\n",
    "        r = G_left_list[indexes[1]]\n",
    "\n",
    "        G_left = nx.relabel_nodes(G_left, {l:r, r:l})        \n",
    "    elif indexes[0] <= 14 and indexes[1] > 14:\n",
    "        l = G_left_list[indexes[0]]\n",
    "        r = G_right_list[indexes[1]-15]\n",
    "        \n",
    "        G_left = nx.relabel_nodes(G_left, {l:r})\n",
    "        G_right = nx.relabel_nodes(G_right, {r:l})\n",
    "    elif indexes[0] > 14 and indexes[1] <= 14:\n",
    "        l = G_left_list[indexes[1]]\n",
    "        r = G_right_list[indexes[0]-15]\n",
    "        \n",
    "        G_left = nx.relabel_nodes(G_left, {l:r})\n",
    "        G_right = nx.relabel_nodes(G_right, {r:l})\n",
    "    elif indexes[0] > 14 and indexes[1] > 14:\n",
    "        l = G_right_list[indexes[0]-15]\n",
    "        r = G_right_list[indexes[1]-15]\n",
    "        \n",
    "        G_right = nx.relabel_nodes(G_right, {l:r, r:l})\n",
    "        \n",
    "    return [G_left, G_right]"
   ]
  },
  {
   "cell_type": "code",
   "execution_count": 13,
   "metadata": {},
   "outputs": [],
   "source": [
    "def set_keyboard_layout(G_left, G_right, tab):\n",
    "    left_attrs = {}\n",
    "    right_attrs = {}\n",
    "\n",
    "    for i,x in enumerate(G_left.nodes):\n",
    "        left_attrs[\"{}\".format(x)] = tab[i]\n",
    "    for i,x in enumerate(G_right.nodes):\n",
    "        right_attrs[\"{}\".format(x)] = tab[15+i]\n",
    "    #print(left_attrs)\n",
    "    \n",
    "    G_left = nx.relabel_nodes(G_left, left_attrs)\n",
    "    G_right = nx.relabel_nodes(G_right, right_attrs)\n",
    "    \n",
    "    return G_left, G_right"
   ]
  },
  {
   "cell_type": "code",
   "execution_count": 14,
   "metadata": {},
   "outputs": [],
   "source": [
    "def crossover(G_left1, G_right1, G_left2, G_right2):\n",
    "    \"\"\"Executes a partially matched crossover (PMX) on the input individuals\"\"\"\n",
    "    ind1, ind2 = [], []  \n",
    "    G_left_list1, G_left_list2 = list(G_left1.nodes), list(G_left2.nodes)\n",
    "    G_right_list1, G_right_list2 = list(G_right1.nodes), list(G_right2.nodes)\n",
    "    \n",
    "    for i in range(15):\n",
    "        ind1.append(G_left_list1[i])\n",
    "        ind2.append(G_left_list2[i])\n",
    "    for i in range(11):\n",
    "        ind1.append(G_right_list1[i])\n",
    "        ind2.append(G_right_list2[i])\n",
    "        \n",
    "    size = min(len(ind1), len(ind2))\n",
    "    \n",
    "    cxpoint1 = random.randint(0, size)\n",
    "    cxpoint2 = random.randint(0, size - 1)\n",
    "    \n",
    "    if cxpoint2 >= cxpoint1:\n",
    "        pass\n",
    "    else:  # Swap the two cx points\n",
    "        cxpoint1, cxpoint2 = cxpoint2, cxpoint1\n",
    "             \n",
    "    for i in range(0, 3):\n",
    "        temp1 = ind1[i]\n",
    "        temp2 = ind2[i]\n",
    "        \n",
    "        p = ind1.index(temp2)\n",
    "        p2 = ind2.index(temp1)\n",
    "        \n",
    "        ind1[i] = temp2\n",
    "        ind2[i] = temp1\n",
    "        \n",
    "        ind1[p] = temp1\n",
    "        ind2[p2] = temp2\n",
    "        \n",
    "        \n",
    "    G_left1, G_right1 = set_keyboard_layout(G_left1, G_right1, ind1)\n",
    "    G_left2, G_right2 = set_keyboard_layout(G_left2, G_right2, ind2)\n",
    "        \n",
    "    return [G_left1, G_right1, G_left2, G_right2]"
   ]
  },
  {
   "cell_type": "code",
   "execution_count": 15,
   "metadata": {},
   "outputs": [],
   "source": [
    "def score_word(word, zipf, G_left_nodes, G_right_nodes, spl_G_left, spl_G_right):\n",
    "    hand = 'left' if word[0] in G_left_nodes else 'right'\n",
    "    sum_lenght = 0\n",
    "    for i in range(len(word)-1):\n",
    "        if hand == 'left':\n",
    "#             print('left')\n",
    "            if word[i+1] in G_left_nodes:\n",
    "                sum_lenght += spl_G_left[word[i]][word[i+1]]\n",
    "            else:\n",
    "                sum_lenght += 1\n",
    "                hand = 'right'\n",
    "        else:\n",
    "#             print('right')\n",
    "            if word[i+1] in G_right_nodes:\n",
    "                sum_lenght += spl_G_right[word[i]][word[i+1]]\n",
    "            else:\n",
    "                sum_lenght += 1\n",
    "                hand = 'left'\n",
    "    return sum_lenght * zipf"
   ]
  },
  {
   "cell_type": "code",
   "execution_count": 16,
   "metadata": {},
   "outputs": [],
   "source": [
    "def score(word_list, G_left, G_right):\n",
    "    G_left_nodes = G_left.nodes()\n",
    "    G_right_nodes = G_right.nodes()\n",
    "    spl_G_left = dict(nx.all_pairs_shortest_path_length(G_left))\n",
    "    spl_G_right = dict(nx.all_pairs_shortest_path_length(G_right))\n",
    "    sum_len = 0\n",
    "    for word in word_list.keys():\n",
    "        sum_len += score_word(word, word_list[word]['freq'], G_left_nodes, G_right_nodes, spl_G_left, spl_G_right)\n",
    "    return len(word_list)/sum_len"
   ]
  },
  {
   "cell_type": "code",
   "execution_count": 17,
   "metadata": {},
   "outputs": [
    {
     "data": {
      "text/plain": [
       "\"\\ndef selectOne(tournament, fitness):\\n    fit = [fitness[i] for i in tournament]\\n    max_index = fitness.index(max(fit))\\n    return max_index\\n\\ndef selection(d_left, d_right, fitness, t):\\n    length = min(len(d_left), len(d_right))\\n    for i in range(length):\\n        r = random.randint(1, t)\\n        tour = random.sample(range(0,length), r)\\n        chosen = selectOne(tour, fitness)\\n        d_left['{}'.format(i)] = d_left['{}'.format(chosen)]\\n        d_right['{}'.format(i)] = d_right['{}'.format(chosen)]\\n\""
      ]
     },
     "execution_count": 17,
     "metadata": {},
     "output_type": "execute_result"
    }
   ],
   "source": [
    "import numpy.random as npr\n",
    "\n",
    "\n",
    "def selectOne(d_left, d_right, fitness):\n",
    "    max = sum(fitness)\n",
    "    selection_probs = [c/max for c in fitness]\n",
    "    return npr.choice(min(len(d_left), len(d_right)), p=selection_probs)\n",
    "\n",
    "def selectBest(tournament, fitness):\n",
    "    max_index = fitness.index(max(fitness))\n",
    "    #print(max_index, max(fitness))\n",
    "    return max_index\n",
    "\n",
    "def selection(d_left, d_right, fitness):\n",
    "    length = min(len(d_left), len(d_right))\n",
    "    \n",
    "    best = selectBest(length, fitness)\n",
    "    d_left['0'] = d_left['{}'.format(best)]\n",
    "    d_right['0'] = d_right['{}'.format(best)]\n",
    "    \n",
    "    for i in range(1,length):\n",
    "        chosen = selectOne(d_left, d_right, fitness)\n",
    "        d_left['{}'.format(i)] = d_left['{}'.format(chosen)]\n",
    "        d_right['{}'.format(i)] = d_right['{}'.format(chosen)]\n",
    "\n",
    "\n",
    "\"\"\"\n",
    "def selectOne(tournament, fitness):\n",
    "    fit = [fitness[i] for i in tournament]\n",
    "    max_index = fitness.index(max(fit))\n",
    "    return max_index\n",
    "\n",
    "def selection(d_left, d_right, fitness, t):\n",
    "    length = min(len(d_left), len(d_right))\n",
    "    for i in range(length):\n",
    "        r = random.randint(1, t)\n",
    "        tour = random.sample(range(0,length), r)\n",
    "        chosen = selectOne(tour, fitness)\n",
    "        d_left['{}'.format(i)] = d_left['{}'.format(chosen)]\n",
    "        d_right['{}'.format(i)] = d_right['{}'.format(chosen)]\n",
    "\"\"\""
   ]
  },
  {
   "cell_type": "code",
   "execution_count": 18,
   "metadata": {},
   "outputs": [],
   "source": [
    "import itertools\n",
    "\n",
    "def algorithm(d_left, d_right, steps, mutation_prob=0, crossover_prob=0):\n",
    "    \n",
    "    sum_list = []\n",
    "    max_temp_list = []\n",
    "    min_temp_list = []\n",
    "    max_list = []\n",
    "    min_list = []\n",
    "    max_score = 0\n",
    "    min_score = 0\n",
    "    \n",
    "    length = min(len(d_left), len(d_right))\n",
    "    \n",
    "    fitness = [ score(words, l, r) for i,(l,r) in enumerate(zip(d_left.values(), d_right.values())) ]\n",
    "    for i in range(steps):\n",
    "        if i%50 == 0:\n",
    "            print('Generation {}'.format(i))\n",
    "            \n",
    "        selection(d_left, d_right, fitness)\n",
    "         \n",
    "        for y in range(length):\n",
    "            if crossover_prob >= npr.rand():\n",
    "                p = random.sample(range(length), 2)\n",
    "                d_left['{}'.format(p[0])], d_right['{}'.format(p[0])], d_left['{}'.format(p[1])], d_right['{}'.format(p[1])] = crossover(\n",
    "                    d_left['{}'.format(p[0])], d_right['{}'.format(p[0])], d_left['{}'.format(p[1])], d_right['{}'.format(p[1])])\n",
    "        \n",
    "        \n",
    "        a = mutation_prob/steps\n",
    "        for l,r in zip(d_left.values(), d_right.values()):\n",
    "            if a*(steps-i) >= npr.rand():\n",
    "                l,r = mutation(l, r)\n",
    "                \n",
    "        fitness = [ score(words, l, r) for i,(l,r) in enumerate(zip(d_left.values(), d_right.values())) ]\n",
    "        \n",
    "        sum_list.append(sum(fitness))\n",
    "        \n",
    "        if max_score < max(fitness):\n",
    "            max_score = max(fitness)\n",
    "            G_left = d_left['{}'.format(fitness.index(max(fitness)))]\n",
    "            G_right = d_right['{}'.format(fitness.index(max(fitness)))]\n",
    "            \n",
    "        if min_score < min(fitness):\n",
    "            min_score = min(fitness)\n",
    "            \n",
    "        max_list.append(max_score)\n",
    "        min_list.append(min_score)\n",
    "        \n",
    "        max_temp_list.append(max(fitness))\n",
    "        min_temp_list.append(min(fitness))\n",
    "                \n",
    "    return sum_list, max_list, min_list, max_temp_list, min_temp_list, G_left, G_right"
   ]
  },
  {
   "cell_type": "code",
   "execution_count": 19,
   "metadata": {},
   "outputs": [
    {
     "name": "stdout",
     "output_type": "stream",
     "text": [
      "Generation 0\n",
      "Generation 50\n",
      "Wall time: 3min 40s\n"
     ]
    }
   ],
   "source": [
    "%%time\n",
    "d_left, d_right = create_graphs_dict(600)\n",
    "\n",
    "sum_list, max_list, min_list, max_temp_list, min_temp_list, G_left_best, G_right_best = algorithm(d_left, d_right, 100, mutation_prob=0.27, crossover_prob=0.86)"
   ]
  },
  {
   "cell_type": "code",
   "execution_count": 20,
   "metadata": {},
   "outputs": [
    {
     "data": {
      "text/plain": [
       "521.6692321783521"
      ]
     },
     "execution_count": 20,
     "metadata": {},
     "output_type": "execute_result"
    }
   ],
   "source": [
    "score(words, G_left_best, G_right_best)"
   ]
  },
  {
   "cell_type": "code",
   "execution_count": 155,
   "metadata": {},
   "outputs": [],
   "source": [
    "G_left_best_529_68 = G_left_best\n",
    "G_right_best_529_68 = G_right_best"
   ]
  },
  {
   "cell_type": "code",
   "execution_count": 156,
   "metadata": {},
   "outputs": [
    {
     "data": {
      "text/plain": [
       "529.6860139017595"
      ]
     },
     "execution_count": 156,
     "metadata": {},
     "output_type": "execute_result"
    }
   ],
   "source": [
    "score(words, G_left_best_529_68, G_right_best_529_68)"
   ]
  },
  {
   "cell_type": "code",
   "execution_count": 157,
   "metadata": {},
   "outputs": [],
   "source": [
    "nx.write_gpickle(G_left_best_529_68, \"G_left_best.gpickle\")\n",
    "nx.write_gpickle(G_right_best_529_68, \"G_right_best.gpickle\")"
   ]
  },
  {
   "cell_type": "code",
   "execution_count": 48,
   "metadata": {},
   "outputs": [],
   "source": [
    "qwerty =  ['q', 'w', 'e', 'r', 't', \n",
    "           'a', 's', 'd', 'f', 'g',\n",
    "           'z', 'x', 'c', 'v', 'b',\n",
    "           \n",
    "           'y', 'u', 'i', 'o', 'p',\n",
    "           'h', 'j', 'k', 'l',\n",
    "           'n', 'm']\n",
    "\n",
    "qwerty_left = nx.Graph()\n",
    "qwerty_right = nx.Graph()\n",
    "define_graph(qwerty_left, qwerty_right)\n",
    "qwerty_left, qwerty_right = make_rnd_keyboard_layout(qwerty_left, qwerty_right)\n",
    "qwerty_left, qwerty_right = set_keyboard_layout(qwerty_left, qwerty_right, qwerty)"
   ]
  },
  {
   "cell_type": "code",
   "execution_count": 49,
   "metadata": {},
   "outputs": [
    {
     "data": {
      "text/plain": [
       "408.68905488728313"
      ]
     },
     "execution_count": 49,
     "metadata": {},
     "output_type": "execute_result"
    }
   ],
   "source": [
    "score(words, qwerty_left, qwerty_right)"
   ]
  },
  {
   "cell_type": "code",
   "execution_count": null,
   "metadata": {},
   "outputs": [],
   "source": [
    "%%time\n",
    "#mutation_prob_list = [0, 0.1, 0.2, 0.3, 0.4, 0.5, 0.6, 0.7, 0.8, 0.9, 1]\n",
    "#crossover_prob_list = [0, 0.05, 0.1, 0.15, 0.2, 0.25, 0.3, 0.35, 0.4, 0.45, 0.5,\n",
    "#                       0.55, 0.6, 0.65, 0.7, 0.75, 0.8, 0.85, 0.9, 0.95, 1]\n",
    "\n",
    "mutation_prob_list = [0.11, 0.12, 0.13, 0.14, 0.15, 0.16, 0.17, 0.18, 0.19, \n",
    "                      0.21, 0.22, 0.23, 0.24, 0.25, 0.26, 0.27, 0.28, 0.29]\n",
    "crossover_prob_list = [0.86, 0.87, 0.88, 0.89, 0.9, 0.91, 0.92, 0.93, 0.94]\n",
    "\n",
    "\n",
    "average = 5\n",
    "size = 100\n",
    "timesteps = 100\n",
    "\n",
    "for m in mutation_prob_list:\n",
    "    for c in crossover_prob_list:\n",
    "        print('mutation_prob {}, crossover_prob {}'.format(m,c))\n",
    "        \n",
    "        sum_list_ac, max_list_ac, min_list_ac = np.zeros(timesteps), np.zeros(timesteps), np.zeros(timesteps)\n",
    "        max_temp_list_ac, min_temp_list_ac = np.zeros(timesteps), np.zeros(timesteps)\n",
    "        for i in range(average):\n",
    "            d_left, d_right = create_graphs_dict(size)\n",
    "            sum_list, max_list, min_list, max_temp_list, min_temp_list = algorithm(d_left, d_right, timesteps, mutation_prob=m,\n",
    "                                                                                   crossover_prob=c)    \n",
    "            sum_list_ac = sum_list_ac + np.array(sum_list)/average\n",
    "            max_list_ac = max_list_ac + np.array(max_list)/average\n",
    "            min_list_ac = min_list_ac + np.array(min_list)/average\n",
    "            max_temp_list_ac = max_temp_list_ac + np.array(max_temp_list)/average\n",
    "            min_temp_list_ac = min_temp_list_ac + np.array(min_temp_list)/average\n",
    "            \n",
    "        with open('wyniki4/{}_{}.dat'.format(m,c), 'w+') as f:\n",
    "            f.write('{}\\t{}\\t{}\\t{}\\t{}\\n'.format('sum_fit', 'max_fit', 'min_fit', 'max_temp_fit', 'min_temp_fit'))\n",
    "            for item in range(len(sum_list_ac)):\n",
    "                f.write('{}\\t{}\\t{}\\t{}\\t{}\\n'.format(sum_list_ac[item], max_list_ac[item], min_list_ac[item],\n",
    "                                                       max_temp_list_ac[item], min_temp_list_ac[item]))"
   ]
  },
  {
   "cell_type": "code",
   "execution_count": null,
   "metadata": {},
   "outputs": [],
   "source": [
    "%%time\n",
    "\n",
    "average = 5\n",
    "pm = 0.16\n",
    "pc = 0.87\n",
    "timesteps = 100\n",
    "size_list = [50, 100, 150, 200, 250, 300, 350, 400, 450, 500, 550, 600, 650, 700]\n",
    "\n",
    "for s in size_list:\n",
    "    print('size {}'.format(s))\n",
    "\n",
    "    sum_list_ac, max_list_ac, min_list_ac = np.zeros(timesteps), np.zeros(timesteps), np.zeros(timesteps)\n",
    "    max_temp_list_ac, min_temp_list_ac = np.zeros(timesteps), np.zeros(timesteps)\n",
    "    for i in range(average):\n",
    "        d_left, d_right = create_graphs_dict(s)\n",
    "        sum_list, max_list, min_list, max_temp_list, min_temp_list = algorithm(d_left, d_right, timesteps, mutation_prob=pm,\n",
    "                                                                               crossover_prob=pc)    \n",
    "        sum_list_ac = sum_list_ac + np.array(sum_list)/average\n",
    "        max_list_ac = max_list_ac + np.array(max_list)/average\n",
    "        min_list_ac = min_list_ac + np.array(min_list)/average\n",
    "        max_temp_list_ac = max_temp_list_ac + np.array(max_temp_list)/average\n",
    "        min_temp_list_ac = min_temp_list_ac + np.array(min_temp_list)/average\n",
    "\n",
    "    with open('wyniki_populacja_pm0.16_pc0.87/{}.dat'.format(s), 'w+') as f:\n",
    "        f.write('{}\\t{}\\t{}\\t{}\\t{}\\n'.format('sum_fit', 'max_fit', 'min_fit', 'max_temp_fit', 'min_temp_fit'))\n",
    "        for item in range(len(sum_list_ac)):\n",
    "            f.write('{}\\t{}\\t{}\\t{}\\t{}\\n'.format(sum_list_ac[item], max_list_ac[item], min_list_ac[item],\n",
    "                                                   max_temp_list_ac[item], min_temp_list_ac[item]))"
   ]
  },
  {
   "cell_type": "code",
   "execution_count": null,
   "metadata": {},
   "outputs": [],
   "source": [
    "def plot_keyboard(left_part, right_part):\n",
    "    x1 = np.arange(114, 114+530, 53) + np.arange(10)\n",
    "    y1 = np.repeat(170, 10)\n",
    "    x2 = np.arange(129, 221+371, 53) + np.arange(9)\n",
    "    y2 = np.repeat(223, 9)\n",
    "    x3 = np.arange(155, 155+319, 53) + np.arange(7)\n",
    "    y3 = np.repeat(277, 7)\n",
    "    left = list(left_part.nodes())\n",
    "    right = list(right_part.nodes())\n",
    "    img = plt.imread(\"keyboard.png\")\n",
    "    fig, ax = plt.subplots(figsize=(20,8))\n",
    "    for i, key in enumerate(left[:5], 0):\n",
    "        ax.text(x1[i], y1[i], key, fontsize=16)\n",
    "    for i, key in enumerate(left[5:10], 0):\n",
    "        ax.text(x2[i], y2[i], key, fontsize=16)\n",
    "    for i, key in enumerate(left[10:], 0):\n",
    "        ax.text(x3[i], y3[i], key, fontsize=16)\n",
    "    for i, key in enumerate(right[:5], 5):\n",
    "        ax.text(x1[i], y1[i], key, fontsize=16)\n",
    "    for i, key in enumerate(right[5:9], 5):\n",
    "        ax.text(x2[i], y2[i], key, fontsize=16)\n",
    "    for i, key in enumerate(right[9:], 5):\n",
    "        ax.text(x3[i], y3[i], key, fontsize=16)\n",
    "    ax.spines['right'].set_visible(False)\n",
    "    ax.spines['top'].set_visible(False)\n",
    "    ax.spines['left'].set_visible(False)\n",
    "    ax.spines['bottom'].set_visible(False)\n",
    "    ax.set_xticks([])\n",
    "    ax.set_yticks([])\n",
    "    ax.imshow(img)\n",
    "    plt.savefig('./keyboard_better.png')\n",
    "    plt.show()"
   ]
  },
  {
   "cell_type": "code",
   "execution_count": 205,
   "metadata": {},
   "outputs": [
    {
     "data": {
      "image/png": "[encoded data removed]",
      "text/plain": [
       "<Figure size 1440x576 with 1 Axes>"
      ]
     },
     "metadata": {},
     "output_type": "display_data"
    }
   ],
   "source": [
    "plot_keyboard(G_left_best_529_68, G_right_best_529_68)"
   ]
  },
  {
   "cell_type": "code",
   "execution_count": null,
   "metadata": {},
   "outputs": [],
   "source": []
  }
 ],
 "metadata": {
  "kernelspec": {
   "display_name": "Python 3",
   "language": "python",
   "name": "python3"
  },
  "language_info": {
   "codemirror_mode": {
    "name": "ipython",
    "version": 3
   },
   "file_extension": ".py",
   "mimetype": "text/x-python",
   "name": "python",
   "nbconvert_exporter": "python",
   "pygments_lexer": "ipython3",
   "version": "3.8.3"
  }
 },
 "nbformat": 4,
 "nbformat_minor": 4
}
